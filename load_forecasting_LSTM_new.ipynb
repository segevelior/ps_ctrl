{
 "cells": [
  {
   "cell_type": "code",
   "execution_count": null,
   "id": "6aa47924",
   "metadata": {},
   "outputs": [],
   "source": [
    "import warnings\n",
    "warnings.filterwarnings('ignore')\n",
    "import numpy as np\n",
    "import pandas as pd\n",
    "import matplotlib.pyplot as plt\n",
    "import tensorflow as tf\n",
    "from datetime import datetime\n",
    "import math\n",
    "from tensorflow.keras.layers import Concatenate, Dense, Activation, Dropout, Input, LSTM, Reshape, Lambda, RepeatVector, TimeDistributed, Flatten\n",
    "from tensorflow.keras.models import Model, Sequential\n",
    "from tensorflow.keras.optimizers import Adam\n",
    "from functions import feature_extraction\n",
    "from tensorflow.keras import backend as K"
   ]
  },
  {
   "cell_type": "code",
   "execution_count": null,
   "id": "f094c1e9",
   "metadata": {},
   "outputs": [],
   "source": [
    "AEP = pd.read_csv('AEP_hourly.csv')\n",
    "AEP = AEP.rename(columns={'AEP_MW': 'Load'})\n",
    "look_back = 7 #in days\n",
    "predict = 24 # in hours\n",
    "df = AEP.copy()\n"
   ]
  },
  {
   "cell_type": "code",
   "execution_count": null,
   "id": "24aec707",
   "metadata": {},
   "outputs": [],
   "source": [
    "df['Datetime'] = df['Datetime'].apply(lambda x: datetime.strptime(x, '%Y-%m-%d %H:%M:%S'))\n",
    "    \n",
    "df['Year'] = df['Datetime'].apply(lambda x: x.year)\n",
    "# featurs of Month_CS from Month\n",
    "\n",
    "df['cos(M)'] = df['Datetime'].apply(lambda x: np.cos(2*math.pi*x.month/12))\n",
    "df['sin(M)'] = df['Datetime'].apply(lambda x: np.sin(2*math.pi*x.month/12))\n",
    "\n",
    "# featurs of Day_CS from Day\n",
    "df['cos(D)'] = df['Datetime'].apply(lambda x: np.cos(2*math.pi*x.day/31))\n",
    "df['sin(D)'] = df['Datetime'].apply(lambda x: np.sin(2*math.pi*x.day/31))\n",
    "\n",
    "# featurs of Weekday_CS from Weekday\n",
    "df['cos(WD)'] = df['Datetime'].apply(lambda x: np.cos(2*math.pi*x.weekday()/7))\n",
    "df['sin(WD)'] = df['Datetime'].apply(lambda x: np.sin(2*math.pi*x.weekday()/7))\n",
    "\n",
    "# featurs of Hour_CS from Hour\n",
    "df['cos(H)'] = df['Datetime'].apply(lambda x: np.cos(2*math.pi*x.hour/24))\n",
    "df['sin(H)'] = df['Datetime'].apply(lambda x: np.sin(2*math.pi*x.hour/24))\n",
    "\n",
    "df = df.drop('Datetime', axis=1)"
   ]
  },
  {
   "cell_type": "code",
   "execution_count": null,
   "id": "59767c08",
   "metadata": {
    "scrolled": true
   },
   "outputs": [],
   "source": [
    "# ## df test\n",
    "# df = pd.DataFrame({'Numbers': range(10),\n",
    "#                    'A': np.random.rand(10),\n",
    "#                    'B': np.random.rand(10),\n",
    "#                    'C': np.random.rand(10)})\n",
    "# df"
   ]
  },
  {
   "cell_type": "code",
   "execution_count": null,
   "id": "67dad746",
   "metadata": {},
   "outputs": [],
   "source": [
    "def sliding_window(vector, window_size):\n",
    "    windows = np.lib.stride_tricks.sliding_window_view(vector, window_size)\n",
    "    return windows"
   ]
  },
  {
   "cell_type": "code",
   "execution_count": null,
   "id": "263f12ed",
   "metadata": {},
   "outputs": [],
   "source": [
    "n_look_back = 24*21\n",
    "n_look_forward = 24\n",
    "\n",
    "data = np.array(df.values)\n",
    "windows = np.squeeze(sliding_window(data, (n_look_back+n_look_forward,data.shape[1])))\n",
    "look_back_seq = np.expand_dims(windows[:,:n_look_back,0],axis=2)\n",
    "look_back_dt = windows[:,:n_look_back,1:]\n",
    "look_forward_dt = windows[:,-n_look_forward:,1:]\n",
    "look_forward_seq = np.expand_dims(windows[:,-n_look_forward:,0],axis=2)\n",
    "print(f'look_back_seq.shape = {look_back_seq.shape}')\n",
    "print(f'look_back_dt.shape = {look_back_dt.shape}')\n",
    "print(f'look_forward_seq.shape = {look_forward_seq.shape}')\n",
    "print(f'look_forward_dt.shape = {look_forward_dt.shape}')"
   ]
  },
  {
   "cell_type": "code",
   "execution_count": null,
   "id": "1f031bf0",
   "metadata": {},
   "outputs": [],
   "source": []
  }
 ],
 "metadata": {
  "kernelspec": {
   "display_name": "Python 3 (ipykernel)",
   "language": "python",
   "name": "python3"
  },
  "language_info": {
   "codemirror_mode": {
    "name": "ipython",
    "version": 3
   },
   "file_extension": ".py",
   "mimetype": "text/x-python",
   "name": "python",
   "nbconvert_exporter": "python",
   "pygments_lexer": "ipython3",
   "version": "3.9.16"
  }
 },
 "nbformat": 4,
 "nbformat_minor": 5
}
